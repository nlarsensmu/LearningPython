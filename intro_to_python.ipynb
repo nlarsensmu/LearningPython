{
 "metadata": {
  "language_info": {
   "codemirror_mode": {
    "name": "ipython",
    "version": 3
   },
   "file_extension": ".py",
   "mimetype": "text/x-python",
   "name": "python",
   "nbconvert_exporter": "python",
   "pygments_lexer": "ipython3",
   "version": "3.8.5"
  },
  "orig_nbformat": 2,
  "kernelspec": {
   "name": "python385jvsc74a57bd0b3ba2566441a7c06988d0923437866b63cedc61552a5af99d1f4fb67d367b25f",
   "display_name": "Python 3.8.5 64-bit ('ProgramData': virtualenv)"
  }
 },
 "nbformat": 4,
 "nbformat_minor": 2,
 "cells": [
  {
   "source": [
    "# Introduction to Python\n",
    "By Nicholas Larsen\n",
    "\n",
    "The goal of this notebook is to provide an introduction to computer science fundamentals at a high level, give the reader a chance to interact with the code and learn from experimentaion. This is not intended to be a prepartion for working in the industry of software engineering, rather a guide to what programers do at a high level"
   ],
   "cell_type": "markdown",
   "metadata": {}
  },
  {
   "source": [
    "## Section 1: variables\n",
    "\n",
    "A variable is how a developer can store a value to use. For example you may want to store the count of items, the cost of a item in a store, or the location as (x,y) of an object on a map. To start out will we discuss the primative types of variables that python has:\n",
    "* Integers - whole numbers positive and negative\n",
    "* Floating point numbers - a number with a decimal\n",
    "* strings - a text string, could be anything that is a sequence of character like \"Hello World\"\n",
    "* list - A list of variables\n"
   ],
   "cell_type": "markdown",
   "metadata": {}
  },
  {
   "source": [
    "### Section 1.1 Integers\n",
    "\n",
    "Integers are the most accurate way to represent numbers to a programmer. It is important to use them as much as possible when representing numbers. Below are a few examples of how we can represent integers. An integer can represent a number from -2147483648 to 2147483647. At a later time we will discuss why this is and what happens when we exceed these limits.\n",
    "\n",
    "NOTE: to view a variable you can pass it to the print method like below. You can also pass a string in before the variable so we can tell what was printed"
   ],
   "cell_type": "markdown",
   "metadata": {}
  },
  {
   "cell_type": "code",
   "execution_count": 9,
   "metadata": {},
   "outputs": [
    {
     "output_type": "stream",
     "name": "stdout",
     "text": [
      "x = 10\ny = 100\nx_plus_y = 110\nx_times_y = 1000\nx_minus_y = -90\n"
     ]
    }
   ],
   "source": [
    "x = 10\n",
    "print('x =', x)\n",
    "y = 100\n",
    "print('y =', y)\n",
    "x_plus_y = x + y\n",
    "print('x_plus_y =', x_plus_y)\n",
    "x_times_y = x * y\n",
    "print('x_times_y =', x_times_y)\n",
    "x_minus_y = x - y\n",
    "print('x_minus_y =', x_minus_y)"
   ]
  },
  {
   "source": [
    "Here we can see a series of operators that are used with integers. First there is the assignment operator '=' on the first and thid line to assign x and to their values. Then that operator is used to assign the other variables before we print them. The other operators shown above are +, -, * which are the normal arethmetic operations we know them to be."
   ],
   "cell_type": "markdown",
   "metadata": {}
  },
  {
   "source": [
    "#### Division:\n",
    "\n",
    "To discuss divsion lets define a few terms that will be useful\n",
    "* Dividend (/): The normal result of a division operation. For example $17/8 = 2.125$\n",
    "* Integer Division (//): This is the same as division but we ignore the decimal, $17//8 = 1$\n",
    "* Remainder Division (%): The number that would need to be added after Integer Division to get a multiple of the divisor. For example $17\\%8 = 1$ because $17//8 = 7$ and $7+1 = 8$\n",
    "\n",
    "Here is a wiki about this operator refered to as modulo https://en.wikipedia.org/wiki/Modulo_operation"
   ],
   "cell_type": "markdown",
   "metadata": {}
  },
  {
   "cell_type": "code",
   "execution_count": 3,
   "metadata": {},
   "outputs": [
    {
     "output_type": "stream",
     "name": "stdout",
     "text": [
      "dividend = 2.125\nint_dividend = 2\nremainder = 1\n"
     ]
    }
   ],
   "source": [
    "numerator = 17\n",
    "denominator = 8\n",
    "dividend = numerator/denominator\n",
    "print('dividend =', dividend)\n",
    "int_dividend = numerator//denominator\n",
    "print('int_dividend =', int_dividend)\n",
    "remainder = numerator % denominator\n",
    "print('remainder =', remainder) "
   ]
  },
  {
   "cell_type": "code",
   "execution_count": null,
   "metadata": {},
   "outputs": [],
   "source": []
  }
 ]
}